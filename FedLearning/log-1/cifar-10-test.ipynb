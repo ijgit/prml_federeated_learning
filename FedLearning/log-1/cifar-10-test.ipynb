{
 "cells": [
  {
   "cell_type": "code",
   "execution_count": 1,
   "id": "8c3292bc-08c8-49f5-88e2-13f377e080d0",
   "metadata": {},
   "outputs": [],
   "source": [
    "import numpy as np\n",
    "import pandas as pd\n",
    "import pickle\n",
    "import matplotlib.pyplot as plt\n",
    "import seaborn as sns"
   ]
  },
  {
   "cell_type": "code",
   "execution_count": 3,
   "id": "e62147a1-323c-41bd-9298-ef3c9623f9d5",
   "metadata": {},
   "outputs": [],
   "source": [
    "seed=42\n",
    "dataset_name='cifar10'\n",
    "alpha='0.1'\n",
    "method=['fedavg', 'fedprox', 'feddyn']\n",
    "tm_criterions=['CrossEntropyLoss', 'FocalLoss', 'Ratio_Cross_Entropy']\n",
    "sampling_types=['None', 'r_under', 'r_over']"
   ]
  },
  {
   "cell_type": "code",
   "execution_count": null,
   "id": "ab71eabb-8709-4d45-bb4c-4814b8a0c2d9",
   "metadata": {},
   "outputs": [],
   "source": [
    "for tm_criterion in tm_criterions:\n",
    "    if tm_criterion == 'fedprox':\n",
    "        log_dir = f'/{dataset_name}/{seed}_{dataset_name}_{alpha}_{method}(${tm_mu})_{args.tm_criterion}_{args.sampling_type}'\n",
    "    \n",
    "    for sampling_type in sampling_types:\n",
    "        \n",
    "        \n",
    "        log_dir = f'/{dataset_name}/{seed}_{dataset_name}_{alpha}_{method}(${tm_mu})_{args.tm_criterion}_{args.sampling_type}'"
   ]
  },
  {
   "cell_type": "code",
   "execution_count": null,
   "id": "7a434085-0d83-481b-b2b7-26c1a90d730d",
   "metadata": {},
   "outputs": [],
   "source": []
  },
  {
   "cell_type": "code",
   "execution_count": null,
   "id": "4b546bb1-6862-4a16-b248-7a748592dd96",
   "metadata": {},
   "outputs": [],
   "source": [
    "log_dir = f'{args.log_dir}/{args.dataset_name}/{args.seed}_{args.dataset_name}_{args.alpha}_{args.method}(${args.tm_mu})_{args.tm_criterion}_{args.sampling_type}'"
   ]
  }
 ],
 "metadata": {
  "kernelspec": {
   "display_name": "python-3.8",
   "language": "python",
   "name": "python-3.8"
  },
  "language_info": {
   "codemirror_mode": {
    "name": "ipython",
    "version": 3
   },
   "file_extension": ".py",
   "mimetype": "text/x-python",
   "name": "python",
   "nbconvert_exporter": "python",
   "pygments_lexer": "ipython3",
   "version": "3.8.0"
  }
 },
 "nbformat": 4,
 "nbformat_minor": 5
}
